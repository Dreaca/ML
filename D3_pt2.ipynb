{
 "cells": [
  {
   "cell_type": "code",
   "execution_count": 25,
   "metadata": {},
   "outputs": [
    {
     "name": "stdout",
     "output_type": "stream",
     "text": [
      "Interceptor : [4.7141264]\n",
      "Slope : [0.05450927 0.10094536 0.00433665]\n",
      "Mean Squared Error (MSE):2.9078\n",
      "<class 'float'>\n",
      "Root Mean Squared Error (RMSE) : 1.7052\n"
     ]
    }
   ],
   "source": [
    "import pandas as pd\n",
    "\n",
    "#for data visualization\n",
    "import matplotlib.pyplot as plt\n",
    "import seaborn as sns\n",
    "\n",
    "#for building the model and evaluating it\n",
    "\n",
    "from sklearn.model_selection import train_test_split\n",
    "from sklearn.linear_model import LinearRegression\n",
    "\n",
    "import numpy as np;\n",
    "from sklearn import metrics\n",
    "\n",
    "#Set a style for out plots\n",
    "sns.set_style('whitegrid')\n",
    "\n",
    "df = pd.read_csv(\"CSV/advertising.csv\");\n",
    "\n",
    "X = df[[\"TV\",\"Radio\",\"Newspaper\"]]\n",
    "y = df[[\"Sales\"]]\n",
    "\n",
    "X_train, X_test, y_train, y_test = train_test_split(X,y,test_size=0.2,random_state=42)\n",
    "\n",
    "model = LinearRegression()\n",
    "\n",
    "model.fit(X_train,y_train)\n",
    "\n",
    "print(f\"Interceptor : {model.intercept_}\")\n",
    "print(f\"Slope : {model.coef_[0]}\")\n",
    "\n",
    "predict = model.predict(X_test)\n",
    "\n",
    "mse_value = metrics.mean_squared_error (y_test, predict)\n",
    "print(f\"Mean Squared Error (MSE):{mse_value:.4f}\")\n",
    "print(type(mse_value))\n",
    "\n",
    "rmse_value = np.sqrt(mse_value)\n",
    "print(f\"Root Mean Squared Error (RMSE) : {rmse_value:.4f}\")\n"
   ]
  }
 ],
 "metadata": {
  "kernelspec": {
   "display_name": "Python 3",
   "language": "python",
   "name": "python3"
  },
  "language_info": {
   "codemirror_mode": {
    "name": "ipython",
    "version": 3
   },
   "file_extension": ".py",
   "mimetype": "text/x-python",
   "name": "python",
   "nbconvert_exporter": "python",
   "pygments_lexer": "ipython3",
   "version": "3.13.0"
  }
 },
 "nbformat": 4,
 "nbformat_minor": 2
}
