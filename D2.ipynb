{
 "cells": [
  {
   "cell_type": "code",
   "execution_count": 2,
   "metadata": {},
   "outputs": [
    {
     "name": "stdout",
     "output_type": "stream",
     "text": [
      "   X   y\n",
      "0  1   2\n",
      "1  2   4\n",
      "2  3   6\n",
      "3  4   7\n",
      "4  5  10\n"
     ]
    }
   ],
   "source": [
    "\n",
    "import pandas as pd;\n",
    "from sklearn.linear_model import LinearRegression;\n",
    "\n",
    "data ={\n",
    "    \"X\" : [1,2,3,4,5],\n",
    "    \"y\":[2,4,6,7,10] \n",
    "}\n",
    "\n",
    "df = pd.DataFrame(data);\n",
    "\n",
    "#Scikit-Learn accepts data as datafranes or arrays only.\n"
   ]
  }
 ],
 "metadata": {
  "kernelspec": {
   "display_name": "Python 3",
   "language": "python",
   "name": "python3"
  },
  "language_info": {
   "codemirror_mode": {
    "name": "ipython",
    "version": 3
   },
   "file_extension": ".py",
   "mimetype": "text/x-python",
   "name": "python",
   "nbconvert_exporter": "python",
   "pygments_lexer": "ipython3",
   "version": "3.13.0"
  }
 },
 "nbformat": 4,
 "nbformat_minor": 2
}
